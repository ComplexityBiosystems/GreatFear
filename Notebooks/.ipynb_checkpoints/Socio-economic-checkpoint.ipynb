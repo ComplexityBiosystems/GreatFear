{
 "cells": [
  {
   "cell_type": "code",
   "execution_count": null,
   "id": "821dc388-149e-4b9e-a9a2-ac49ab43fd69",
   "metadata": {},
   "outputs": [],
   "source": [
    "import pandas as pd\n",
    "import numpy as np\n",
    "import matplotlib.pyplot as plt\n",
    "import geopandas as gpd\n",
    "import seaborn  as sns\n",
    "import geopandas as gpd\n",
    "import fiona\n",
    "import shapely\n",
    "import matplotlib as mpl\n",
    "from statannotations.Annotator import Annotator\n",
    "from statannotations.stats.StatTest import StatTest\n",
    "import pickle\n",
    "from shapely.geometry import Point, MultiPoint\n",
    "import scipy\n",
    "from shapely import wkt\n",
    "import statsmodels.api as sm\n"
   ]
  },
  {
   "cell_type": "code",
   "execution_count": null,
   "id": "d86fa019-6d5e-4ab2-a329-a23e716d9ceb",
   "metadata": {},
   "outputs": [],
   "source": []
  },
  {
   "cell_type": "code",
   "execution_count": null,
   "id": "164e4377-392c-442f-92a2-84818c99c803",
   "metadata": {},
   "outputs": [],
   "source": []
  },
  {
   "cell_type": "code",
   "execution_count": null,
   "id": "34218c06-19fc-4adc-aebe-6830ab70c7ae",
   "metadata": {},
   "outputs": [],
   "source": [
    "mpl.rcParams['axes.titlesize'] = 16\n",
    "mpl.rcParams['axes.labelsize'] = 14\n",
    "mpl.rcParams['legend.fontsize'] = 12\n",
    "mpl.rcParams['xtick.labelsize'] = 12\n",
    "mpl.rcParams['ytick.labelsize'] = 12\n",
    "mpl.rcParams['axes.spines.right'] = False\n",
    "mpl.rcParams['axes.spines.top'] = False\n",
    "plt.rcParams.update({'font.size': 16})"
   ]
  },
  {
   "cell_type": "markdown",
   "id": "699dd5cc-1d9e-4b35-a9f9-c4cd5e34f51e",
   "metadata": {},
   "source": [
    "#### Load dataset"
   ]
  },
  {
   "cell_type": "code",
   "execution_count": null,
   "id": "d9ee0adb-c2c2-47b6-8d3a-c76d5af204a1",
   "metadata": {},
   "outputs": [],
   "source": [
    "# import dataframe\n",
    "df=pd.read_csv(\"../Data/Data_S4.csv\")"
   ]
  },
  {
   "cell_type": "code",
   "execution_count": null,
   "id": "231aed41-50ab-4949-bc9e-3772b47520da",
   "metadata": {},
   "outputs": [],
   "source": [
    "df['geometry'] = df['geometry'].apply(wkt.loads)\n"
   ]
  },
  {
   "cell_type": "code",
   "execution_count": null,
   "id": "ae4cd7db-ec6b-47ea-9878-6900846eafd8",
   "metadata": {},
   "outputs": [],
   "source": [
    "# trasform into geodataframe\n",
    "gdf = gpd.GeoDataFrame(\n",
    "    df,\n",
    "    geometry=\"geometry\",\n",
    "    crs=\"EPSG:3035\"  # Set CRS to EPSG:3035\n",
    ")\n"
   ]
  },
  {
   "cell_type": "markdown",
   "id": "87450b1c-170d-4d1d-9a86-373407f4324b",
   "metadata": {},
   "source": [
    "#### Plots and statistical analysis"
   ]
  },
  {
   "cell_type": "markdown",
   "id": "237b2a64-7c81-4bc9-970a-def1bdc3bd61",
   "metadata": {},
   "source": [
    "##### Association with population"
   ]
  },
  {
   "cell_type": "code",
   "execution_count": null,
   "id": "8ccd3553-2345-4483-a3ff-bf632a354ae5",
   "metadata": {},
   "outputs": [],
   "source": [
    "fig, ax = plt.subplots(1, 1, figsize=(4, 4))\n",
    "ax=sns.boxplot(data=gdf, x=\"Fear\", y=\"logP\")\n",
    "pairs=[(\"Yes\",\"No\")]\n",
    "annotator = Annotator(ax, pairs, data=gdf, x=\"Fear\", y=\"logP\", order=[\"No\",\"Yes\"])\n",
    "# Required descriptors for annotate\n",
    "custom_long_name = 'T Test'\n",
    "custom_short_name = 'T Test'\n",
    "custom_func = scipy.stats.ttest_ind\n",
    "custom_test = StatTest(custom_func, custom_long_name, custom_short_name)\n",
    "annotator.configure(test=custom_test, text_format='star', loc='outside')\n",
    "annotator.apply_and_annotate()\n",
    "plt.ylabel(r\"$\\log_{10}$ Population (1789)\")\n",
    "plt.show()"
   ]
  },
  {
   "cell_type": "markdown",
   "id": "ba027c29-ba27-4e6f-a7fe-2361a4c86219",
   "metadata": {},
   "source": [
    "##### Association with population: restricted to towns (more than 2000 inhabitants)"
   ]
  },
  {
   "cell_type": "code",
   "execution_count": null,
   "id": "0d480856-e74b-489e-bd1e-45ba79f352e3",
   "metadata": {},
   "outputs": [],
   "source": [
    "fig, ax = plt.subplots(1, 1, figsize=(4, 4))\n",
    "ax=sns.boxplot(data=gdf[gdf.Town], x=\"Fear\", y=\"logP\", order=[\"No\",\"Yes\"])\n",
    "pairs=[(\"No\",\"Yes\")]\n",
    "annotator = Annotator(ax, pairs, data=gdf[gdf.Town], x=\"Fear\", y=\"logP\", order=[\"No\",\"Yes\"])\n",
    "# Required descriptors for annotate\n",
    "custom_long_name = 'T Test'\n",
    "custom_short_name = 'T Test'\n",
    "custom_func = scipy.stats.ttest_ind\n",
    "custom_test = StatTest(custom_func, custom_long_name, custom_short_name)\n",
    "annotator.configure(test=custom_test, text_format='star', loc='outside')\n",
    "annotator.apply_and_annotate()\n",
    "plt.ylabel(r\"$\\log_{10}$ Population in towns (1789)\")\n",
    "plt.show()"
   ]
  },
  {
   "cell_type": "markdown",
   "id": "9868800d-d756-4c89-b612-471b55ea32fa",
   "metadata": {},
   "source": [
    "##### Plot map"
   ]
  },
  {
   "cell_type": "code",
   "execution_count": null,
   "id": "b2449973-3ada-4313-8fab-5e90f9f62512",
   "metadata": {},
   "outputs": [],
   "source": [
    "# import outline\n",
    "fr_outline=gpd.read_file(\"../Maps/france_outline\")"
   ]
  },
  {
   "cell_type": "code",
   "execution_count": null,
   "id": "b848ef11-0dde-4fcb-91be-e34c77f28955",
   "metadata": {},
   "outputs": [],
   "source": [
    "fig = plt.figure(figsize=(8,8))\n",
    "ax = fig.add_axes([0, 0, 1, 1])\n",
    "ax.axis('off')\n",
    "fr_outline.plot(facecolor=\"white\", edgecolor='black', lw=0.3, ax=ax)\n",
    "gdf[gdf.Town].plot(column=\"Fear\", marker=\".\", ax=ax, cmap=\"coolwarm\", s=gdf[gdf.Town]['poptot']/200)\n",
    "plt.xlim(0.32e7,0.42e7)\n",
    "plt.ylim(2.1e6,3.2e6)"
   ]
  },
  {
   "cell_type": "markdown",
   "id": "d5837327-6b23-411f-97ef-fbc79004203b",
   "metadata": {},
   "source": [
    "##### Correlation with the participation in the 1789 referendum"
   ]
  },
  {
   "cell_type": "code",
   "execution_count": null,
   "id": "00b05a0c-e86a-4084-8bbd-6567104b3ec7",
   "metadata": {},
   "outputs": [],
   "source": [
    "fig, ax = plt.subplots(1, 1, figsize=(4, 4))\n",
    "ax=sns.boxplot(data=gdf, x=\"Fear\", y=\"ppar\")\n",
    "pairs=[(\"Yes\",\"No\")]\n",
    "annotator = Annotator(ax, pairs, data=gdf, x=\"Fear\", y=\"ppar\", order=[\"No\",\"Yes\"])\n",
    "# Required descriptors for annotate\n",
    "custom_long_name = 'T Test'\n",
    "custom_short_name = 'T Test'\n",
    "custom_func = scipy.stats.ttest_ind\n",
    "custom_test = StatTest(custom_func, custom_long_name, custom_short_name)\n",
    "annotator.configure(test=custom_test, text_format='star', loc='outside')\n",
    "annotator.apply_and_annotate()\n",
    "plt.ylabel(r\"Participation in 1793 referendum\")\n",
    "plt.show()"
   ]
  },
  {
   "cell_type": "markdown",
   "id": "2cabfb4d-64bf-4f70-9495-f1f461a3acfb",
   "metadata": {},
   "source": [
    "##### Correlation with the participation in the 1789 referendum (towns with more than 2000 inhabitants)"
   ]
  },
  {
   "cell_type": "code",
   "execution_count": null,
   "id": "71dbaab4-885f-4d66-93b8-a9a8903a3aa0",
   "metadata": {},
   "outputs": [],
   "source": [
    "fig, ax = plt.subplots(1, 1, figsize=(4, 4))\n",
    "ax=sns.boxplot(data=gdf[gdf.Town], x=\"Fear\", y=\"ppar\", order=[\"No\",\"Yes\"])\n",
    "pairs=[(\"Yes\",\"No\")]\n",
    "annotator = Annotator(ax, pairs, data=gdf[gdf.Town], x=\"Fear\", y=\"ppar\", order=[\"No\",\"Yes\"])\n",
    "# Required descriptors for annotate\n",
    "custom_long_name = 'T Test'\n",
    "custom_short_name = 'T Test'\n",
    "custom_func = scipy.stats.ttest_ind\n",
    "custom_test = StatTest(custom_func, custom_long_name, custom_short_name)\n",
    "annotator.configure(test=custom_test, text_format='star', loc='outside')\n",
    "annotator.apply_and_annotate()\n",
    "plt.ylabel(r\"Participation in 1793 referendum (towns)\")\n",
    "plt.show()"
   ]
  },
  {
   "cell_type": "markdown",
   "id": "bb26f385-edb7-439b-bcbf-072b134338c2",
   "metadata": {},
   "source": [
    "##### Association with literacy"
   ]
  },
  {
   "cell_type": "code",
   "execution_count": null,
   "id": "9ba83d79-3859-48e4-83ea-914e44af5a46",
   "metadata": {},
   "outputs": [],
   "source": [
    "fig, ax = plt.subplots(1, 1, figsize=(4, 4))\n",
    "ax=sns.boxplot(data=gdf, x=\"Fear\", y=\"% signed\")\n",
    "pairs=[(\"Yes\",\"No\")]\n",
    "annotator = Annotator(ax, pairs, data=gdf, x=\"Fear\", y=\"% signed\")\n",
    "# Required descriptors for annotate\n",
    "custom_long_name = 'T Test'\n",
    "custom_short_name = 'T Test'\n",
    "custom_func = scipy.stats.ttest_ind\n",
    "custom_test = StatTest(custom_func, custom_long_name, custom_short_name)\n",
    "annotator.configure(test=custom_test, text_format='star', loc='outside')\n",
    "annotator.apply_and_annotate()\n",
    "plt.ylabel(\"Literacy rate (1786)\")\n",
    "plt.show()"
   ]
  },
  {
   "cell_type": "markdown",
   "id": "d15761c9-9f8b-437a-a322-0b85e48a3ea0",
   "metadata": {},
   "source": [
    "##### Association with literacy (towns with more than 2000 inhabitants)"
   ]
  },
  {
   "cell_type": "code",
   "execution_count": null,
   "id": "d09a5f0e-3d93-452b-9afd-b838fe49d700",
   "metadata": {},
   "outputs": [],
   "source": [
    "fig, ax = plt.subplots(1, 1, figsize=(4, 4))\n",
    "ax=sns.boxplot(data=gdf[gdf.Town], x=\"Fear\", y=\"% signed\", order=[\"No\",\"Yes\"])\n",
    "pairs=[(\"Yes\",\"No\")]\n",
    "annotator = Annotator(ax, pairs, data=gdf[gdf.Town], x=\"Fear\", y=\"% signed\")\n",
    "# Required descriptors for annotate\n",
    "custom_long_name = 'T Test'\n",
    "custom_short_name = 'T Test'\n",
    "custom_func = scipy.stats.ttest_ind\n",
    "custom_test = StatTest(custom_func, custom_long_name, custom_short_name)\n",
    "annotator.configure(test=custom_test, text_format='star', loc='outside')\n",
    "annotator.apply_and_annotate()\n",
    "plt.ylabel(\"Literacy rate (1786 towns)\")\n",
    "plt.show()"
   ]
  },
  {
   "cell_type": "markdown",
   "id": "ec4d2ba4-0d0e-47f7-8de4-1bc4ad31f85d",
   "metadata": {},
   "source": [
    "##### Association with income"
   ]
  },
  {
   "cell_type": "code",
   "execution_count": null,
   "id": "950f2934-88b4-489f-b6a3-831579a098b0",
   "metadata": {},
   "outputs": [],
   "source": [
    "fig, ax = plt.subplots(1, 1, figsize=(4, 4))\n",
    "ax=sns.boxplot(data=gdf, x=\"Fear\", y=\"revratio1790\", order=[\"No\",\"Yes\"])\n",
    "pairs=[(\"Yes\",\"No\")]\n",
    "annotator = Annotator(ax, pairs, data=gdf, x=\"Fear\", y=\"revratio1790\")\n",
    "# Required descriptors for annotate\n",
    "custom_long_name = 'T Test'\n",
    "custom_short_name = 'T Test'\n",
    "custom_func = scipy.stats.ttest_ind\n",
    "custom_test = StatTest(custom_func, custom_long_name, custom_short_name)\n",
    "annotator.configure(test=custom_test, text_format='star', loc='outside')\n",
    "annotator.apply_and_annotate()\n",
    "plt.ylabel(\"Relative income per person (1790)\")\n",
    "plt.show()"
   ]
  },
  {
   "cell_type": "markdown",
   "id": "af999eb2-d58f-41bf-9835-14b55ca5a437",
   "metadata": {},
   "source": [
    "##### Association with income (towns of more than 2000 inhabitants)"
   ]
  },
  {
   "cell_type": "code",
   "execution_count": null,
   "id": "0a715369-98f0-48c4-9f9a-68d331468aa7",
   "metadata": {},
   "outputs": [],
   "source": [
    "fig, ax = plt.subplots(1, 1, figsize=(4, 4))\n",
    "ax=sns.boxplot(data=gdf[gdf.Town], x=\"Fear\", y=\"revratio1790\", order=[\"No\",\"Yes\"])\n",
    "pairs=[(\"Yes\",\"No\")]\n",
    "annotator = Annotator(ax, pairs, data=gdf[gdf.Town], x=\"Fear\", y=\"revratio1790\")\n",
    "# Required descriptors for annotate\n",
    "custom_long_name = 'T Test'\n",
    "custom_short_name = 'T Test'\n",
    "custom_func = scipy.stats.ttest_ind\n",
    "custom_test = StatTest(custom_func, custom_long_name, custom_short_name)\n",
    "annotator.configure(test=custom_test, text_format='star', loc='outside')\n",
    "annotator.apply_and_annotate()\n",
    "plt.ylabel(\"Relative income per person (1790 towns)\")\n",
    "plt.show()"
   ]
  },
  {
   "cell_type": "markdown",
   "id": "d26800ab-572e-4d47-8b55-829abf204302",
   "metadata": {},
   "source": [
    "##### Association with ownership"
   ]
  },
  {
   "cell_type": "code",
   "execution_count": null,
   "id": "8cb474a3-8ef2-42d2-9cc4-46baaa32c8b1",
   "metadata": {},
   "outputs": [],
   "source": [
    "fig, ax = plt.subplots(1, 1, figsize=(4, 4))\n",
    "ax=sns.boxplot(data=gdf, x=\"Fear\", y=\"perpropri1790\", order=[\"No\",\"Yes\"])\n",
    "pairs=[(\"Yes\",\"No\")]\n",
    "annotator = Annotator(ax, pairs, data=gdf, x=\"Fear\", y=\"perpropri1790\")\n",
    "# Required descriptors for annotate\n",
    "custom_long_name = 'T Test'\n",
    "custom_short_name = 'T Test'\n",
    "custom_func = scipy.stats.ttest_ind\n",
    "custom_test = StatTest(custom_func, custom_long_name, custom_short_name)\n",
    "annotator.configure(test=custom_test, text_format='star', loc='outside')\n",
    "annotator.apply_and_annotate()\n",
    "plt.ylabel(\"% ownership (1790)\")\n",
    "plt.show()"
   ]
  },
  {
   "cell_type": "code",
   "execution_count": null,
   "id": "2880a61a-90ff-49ad-b50b-568d568437fc",
   "metadata": {},
   "outputs": [],
   "source": [
    "##### Association with ownership (towns of more than 2000 inhabitants)"
   ]
  },
  {
   "cell_type": "code",
   "execution_count": null,
   "id": "21bd35d9-4e3e-4e3d-a51c-e69e08aa0af2",
   "metadata": {},
   "outputs": [],
   "source": [
    "fig, ax = plt.subplots(1, 1, figsize=(4, 4))\n",
    "ax=sns.boxplot(data=gdf[gdf.Town], x=\"Fear\", y=\"perpropri1790\", order=[\"No\",\"Yes\"])\n",
    "pairs=[(\"Yes\",\"No\")]\n",
    "annotator = Annotator(ax, pairs, data=gdf[gdf.Town], x=\"Fear\", y=\"perpropri1790\")\n",
    "# Required descriptors for annotate\n",
    "custom_long_name = 'T Test'\n",
    "custom_short_name = 'T Test'\n",
    "custom_func = scipy.stats.ttest_ind\n",
    "custom_test = StatTest(custom_func, custom_long_name, custom_short_name)\n",
    "annotator.configure(test=custom_test, text_format='star', loc='outside')\n",
    "annotator.apply_and_annotate()\n",
    "plt.ylabel(\"% ownership (1790 towns)\")\n",
    "plt.show()"
   ]
  },
  {
   "cell_type": "markdown",
   "id": "ce340d38-e642-4813-902c-5270805c267e",
   "metadata": {},
   "source": [
    "#### Multiple logistic regression"
   ]
  },
  {
   "cell_type": "code",
   "execution_count": null,
   "id": "95ff1b42-eda8-4231-940b-f88308fd8832",
   "metadata": {},
   "outputs": [],
   "source": [
    "df1=gdf[gdf.Town][[\"logP\",\"revratio1790\",\"perpropri1790\",\"% signed\",'ppar',\"Fear\"]].dropna()"
   ]
  },
  {
   "cell_type": "code",
   "execution_count": null,
   "id": "d69d8876-4428-45c7-9abd-0bd63c1c6547",
   "metadata": {},
   "outputs": [],
   "source": [
    "def binarize_fear(x):\n",
    "    if x==\"Yes\":\n",
    "        fear=1\n",
    "    else:\n",
    "        fear=0\n",
    "    return fear"
   ]
  },
  {
   "cell_type": "code",
   "execution_count": null,
   "id": "30bffad3-3076-4581-9357-3b6e1be25d86",
   "metadata": {},
   "outputs": [],
   "source": [
    "df1.Fear=df1.Fear.apply(lambda x: binarize_fear(x))"
   ]
  },
  {
   "cell_type": "code",
   "execution_count": null,
   "id": "608008e8-acde-453b-a706-5e23c04a9b76",
   "metadata": {},
   "outputs": [],
   "source": [
    "X=df1[['logP', 'revratio1790', 'perpropri1790', '% signed', 'ppar']]\n",
    "Y=df1[\"Fear\"]"
   ]
  },
  {
   "cell_type": "code",
   "execution_count": null,
   "id": "2a713e61-9466-4a95-9a86-badaa344e0ca",
   "metadata": {},
   "outputs": [],
   "source": [
    "X = sm.add_constant(X)\n",
    "\n",
    "# Fit the logistic regression model\n",
    "model = sm.Logit(Y, X)\n",
    "result = model.fit()\n",
    "\n",
    "# Print the summary\n",
    "print(result.summary())\n"
   ]
  },
  {
   "cell_type": "code",
   "execution_count": null,
   "id": "0f777a7d-f9eb-433f-b57a-ac12c10b38f6",
   "metadata": {},
   "outputs": [],
   "source": []
  },
  {
   "cell_type": "code",
   "execution_count": null,
   "id": "d736193a-0958-4624-b7b7-2fa97fdd763f",
   "metadata": {},
   "outputs": [],
   "source": []
  }
 ],
 "metadata": {
  "kernelspec": {
   "display_name": "Python 3 (ipykernel)",
   "language": "python",
   "name": "python3"
  },
  "language_info": {
   "codemirror_mode": {
    "name": "ipython",
    "version": 3
   },
   "file_extension": ".py",
   "mimetype": "text/x-python",
   "name": "python",
   "nbconvert_exporter": "python",
   "pygments_lexer": "ipython3",
   "version": "3.9.12"
  }
 },
 "nbformat": 4,
 "nbformat_minor": 5
}
