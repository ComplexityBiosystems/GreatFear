{
 "cells": [
  {
   "cell_type": "code",
   "execution_count": null,
   "id": "de8544f0-6020-438e-b669-e53d3e3fe6e8",
   "metadata": {},
   "outputs": [],
   "source": [
    "import datetime\n",
    "import pandas as pd\n",
    "import numpy as np\n",
    "import matplotlib.pyplot as plt\n",
    "import geopandas as gpd\n",
    "import fiona\n",
    "import shapely\n",
    "import seaborn  as sns\n",
    "from scipy.optimize import curve_fit\n",
    "import tobler\n",
    "import matplotlib\n",
    "import networkx as nx\n",
    "from shapely.geometry import Point, MultiPoint\n",
    "from shapely.ops import nearest_points\n",
    "from scipy.spatial import cKDTree\n",
    "import pydot\n",
    "from networkx.drawing.nx_pydot import graphviz_layout\n",
    "from matplotlib import colors\n",
    "from matplotlib import cm\n",
    "import random\n",
    "import pickle\n",
    "import math\n",
    "import ast\n",
    "from shapely.geometry import Point, LineString\n",
    "from scipy.spatial import cKDTree\n",
    "from scipy.optimize import minimize\n",
    "from scipy.integrate import odeint\n"
   ]
  },
  {
   "cell_type": "code",
   "execution_count": null,
   "id": "d6f53c35-fd7d-4d3a-b28a-b81f7ec463f9",
   "metadata": {},
   "outputs": [],
   "source": []
  },
  {
   "cell_type": "code",
   "execution_count": null,
   "id": "b2601ed9-f1e3-4f4f-9337-19f3c2b9f369",
   "metadata": {},
   "outputs": [],
   "source": [
    "plt.rcParams.update({'font.size': 16})"
   ]
  },
  {
   "cell_type": "code",
   "execution_count": null,
   "id": "6696161d-00e2-426d-b99b-77178499e7dc",
   "metadata": {},
   "outputs": [],
   "source": []
  },
  {
   "cell_type": "markdown",
   "id": "d3b7f366-1077-4bad-8caa-4fbe92c4ef74",
   "metadata": {},
   "source": [
    "#### Import Cassini map"
   ]
  },
  {
   "cell_type": "code",
   "execution_count": null,
   "id": "955aaa34-3e8c-4f57-a49d-98c689907415",
   "metadata": {},
   "outputs": [],
   "source": [
    "edges=gpd.read_file(\"../Maps/edge/edge.shp\")\n",
    "edges=edges.set_crs(\"EPSG:2154\")\n",
    "edges=edges.to_crs(\"EPSG:3035\")"
   ]
  },
  {
   "cell_type": "code",
   "execution_count": null,
   "id": "59251095-0222-4462-8ef1-527b312741d7",
   "metadata": {},
   "outputs": [],
   "source": [
    "nodes=gpd.read_file(\"../Maps/node/node.shp\")\n",
    "nodes=nodes.set_crs(\"EPSG:2154\")\n",
    "nodes=nodes.to_crs(\"EPSG:3035\")"
   ]
  },
  {
   "cell_type": "code",
   "execution_count": null,
   "id": "9c646f06-2712-4ad6-9260-5f2e627f1dd6",
   "metadata": {},
   "outputs": [],
   "source": [
    "nodes1=nodes[nodes.component==1]"
   ]
  },
  {
   "cell_type": "code",
   "execution_count": null,
   "id": "6b00319a-1b23-4052-85f5-7a37c1a509a6",
   "metadata": {},
   "outputs": [],
   "source": [
    "cities=nodes.dropna()"
   ]
  },
  {
   "cell_type": "code",
   "execution_count": null,
   "id": "8263ee33-5ab1-4ff3-9c31-8b8201f8db11",
   "metadata": {},
   "outputs": [],
   "source": [
    "cities_joined=cities.dissolve(by=\"city_name\").reset_index()"
   ]
  },
  {
   "cell_type": "code",
   "execution_count": null,
   "id": "f726eeed-c441-40fe-af80-006e08ee8192",
   "metadata": {},
   "outputs": [],
   "source": [
    "cities_joined.geometry=cities_joined.geometry.representative_point()"
   ]
  },
  {
   "cell_type": "code",
   "execution_count": null,
   "id": "5e020910-093a-45ba-b7ca-e5e50937c8ce",
   "metadata": {},
   "outputs": [],
   "source": [
    "G_roads=nx.from_pandas_edgelist(edges, source='start_node', target='end_node', edge_attr=\"length\")"
   ]
  },
  {
   "cell_type": "code",
   "execution_count": null,
   "id": "620b5425-7308-41ab-9b95-46f5cbe1738b",
   "metadata": {},
   "outputs": [],
   "source": [
    "pos = {row[\"node_id\"]: (row[\"geometry\"].x, row[\"geometry\"].y) for _, row in nodes.iterrows()}"
   ]
  },
  {
   "cell_type": "code",
   "execution_count": null,
   "id": "4f5f0c86-ea3c-4e06-971e-08ad68f76b6e",
   "metadata": {},
   "outputs": [],
   "source": [
    "nx.set_node_attributes(G_roads, pos, \"pos\")"
   ]
  },
  {
   "cell_type": "code",
   "execution_count": null,
   "id": "2cfc0a0d-4737-475f-9cfc-646ff5ce3ca9",
   "metadata": {},
   "outputs": [],
   "source": [
    "# Convert positions to array format for KDTree\n",
    "positions = np.array([pos[node] for node in G_roads.nodes()])\n",
    "node_ids = list(G_roads.nodes())"
   ]
  },
  {
   "cell_type": "code",
   "execution_count": null,
   "id": "1d707b9a-c851-45ce-b6e2-7a994dfb345b",
   "metadata": {},
   "outputs": [],
   "source": [
    "# Create a KDTree for fast neighbor lookup\n",
    "tree = cKDTree(positions)\n"
   ]
  },
  {
   "cell_type": "code",
   "execution_count": null,
   "id": "36a9a10e-993d-4d79-8c08-c0715155aef3",
   "metadata": {},
   "outputs": [],
   "source": [
    "threshold=1000."
   ]
  },
  {
   "cell_type": "code",
   "execution_count": null,
   "id": "8deeb92f-e3d8-45f8-85d2-37158943968d",
   "metadata": {},
   "outputs": [],
   "source": [
    "# Find pairs of points within the threshold\n",
    "pairs = tree.query_pairs(threshold)\n"
   ]
  },
  {
   "cell_type": "code",
   "execution_count": null,
   "id": "7f06bb10-87a4-4bcf-8726-3e99f07d0f03",
   "metadata": {},
   "outputs": [],
   "source": [
    "for i, j in pairs:\n",
    "    node1 = node_ids[i]\n",
    "    node2 = node_ids[j]\n",
    "    distance = np.linalg.norm(positions[i] - positions[j])  # Optional: calculate exact distance\n",
    "    G_roads.add_edge(node1, node2, length=distance)"
   ]
  },
  {
   "cell_type": "markdown",
   "id": "5a48c3d2-cad0-40b9-9e32-a5995edd0e0d",
   "metadata": {},
   "source": [
    "#### Load location of French communes \n"
   ]
  },
  {
   "cell_type": "code",
   "execution_count": null,
   "id": "424d0435-a664-466d-81c9-6b2f5e5db53d",
   "metadata": {},
   "outputs": [],
   "source": [
    "fr_map=gpd.read_file(\"../Maps/communes_FR.json\")  "
   ]
  },
  {
   "cell_type": "code",
   "execution_count": null,
   "id": "71fe59a5-b0e4-40b0-a559-0d8683ce1a3c",
   "metadata": {},
   "outputs": [],
   "source": [
    "fr_outline=gpd.read_file(\"../Maps/france_outline\")"
   ]
  },
  {
   "cell_type": "markdown",
   "id": "5fdd6221-2b3c-45b9-97d6-ca38f08f8fb4",
   "metadata": {},
   "source": [
    "#### Load transmission network for the Great Fear"
   ]
  },
  {
   "cell_type": "code",
   "execution_count": null,
   "id": "aa1009f7-f339-41e2-aeaa-36776a5f3212",
   "metadata": {},
   "outputs": [],
   "source": [
    "with open(\"../Data/DataS1.p\", \"rb\") as f:\n",
    "    G_tot = pickle.load(f)"
   ]
  },
  {
   "cell_type": "code",
   "execution_count": null,
   "id": "e39ac1e4-230c-4949-a591-f8207a27b18c",
   "metadata": {},
   "outputs": [],
   "source": [
    "edge_data = list(G_tot.edges(data=True))"
   ]
  },
  {
   "cell_type": "code",
   "execution_count": null,
   "id": "961fb0cd-0a41-4571-8500-773e83113c81",
   "metadata": {},
   "outputs": [],
   "source": [
    "node_data = list(G_tot.nodes(data=True))"
   ]
  },
  {
   "cell_type": "code",
   "execution_count": null,
   "id": "3ccf4850-c893-4390-b72e-152d16c6d8d8",
   "metadata": {},
   "outputs": [],
   "source": [
    "node_data = []\n",
    "for n, attr in G_tot.nodes(data=True):\n",
    "    if 'location' in attr and isinstance(attr['location'], tuple):\n",
    "        # Include the node name and all attributes\n",
    "        node_data.append({**attr, \"node\": n})\n",
    "    else:\n",
    "        print(f\"Warning: Node {n} does not have a valid location attribute.\")\n",
    "\n"
   ]
  },
  {
   "cell_type": "code",
   "execution_count": null,
   "id": "9c280d9c-ea1f-40e7-b79c-dbd32eaa865c",
   "metadata": {},
   "outputs": [],
   "source": [
    "geometry=[Point(attr['location']) for attr in node_data]"
   ]
  },
  {
   "cell_type": "code",
   "execution_count": null,
   "id": "8159bb1d-f2c2-406c-a239-290da9650fd8",
   "metadata": {},
   "outputs": [],
   "source": [
    "df_node = pd.DataFrame.from_dict(dict(G_tot.nodes(data=True)), orient='index')"
   ]
  },
  {
   "cell_type": "code",
   "execution_count": null,
   "id": "a3407c9b-e09b-4110-a6c5-9811055eb529",
   "metadata": {},
   "outputs": [],
   "source": [
    "nodes_gdf = gpd.GeoDataFrame(\n",
    "    node_data,\n",
    "    geometry=[Point(d['location']) for d in node_data],\n",
    "    crs=\"EPSG:3035\"  # Set CRS to EPSG:3035\n",
    ")\n"
   ]
  },
  {
   "cell_type": "markdown",
   "id": "fbb3c20e-6993-4cab-9e34-38dd8e563132",
   "metadata": {},
   "source": [
    "#### Compute distances between nodes"
   ]
  },
  {
   "cell_type": "code",
   "execution_count": null,
   "id": "7169415b-05d2-48ad-ae0f-0c66e1be74d3",
   "metadata": {},
   "outputs": [],
   "source": [
    "def euclidean_distance(coord1, coord2):\n",
    "    \"\"\"\n",
    "    Calculate the Euclidean distance between two points in EPSG:3035 coordinates.\n",
    "    Parameters:\n",
    "        coord1: tuple (x, y) in meters\n",
    "        coord2: tuple (x, y) in meters\n",
    "    Returns:\n",
    "        Distance in meters\n",
    "    \"\"\"\n",
    "    dx = coord2[0] - coord1[0]\n",
    "    dy = coord2[1] - coord1[1]\n",
    "    return np.sqrt(dx**2 + dy**2)"
   ]
  },
  {
   "cell_type": "code",
   "execution_count": null,
   "id": "361ddca9-72fc-4b9d-a8da-affe3b45edb6",
   "metadata": {},
   "outputs": [],
   "source": [
    "for u, v in G_tot.edges():\n",
    "    loc_u = G_tot.nodes[u]['location']\n",
    "    loc_v = G_tot.nodes[v]['location']\n",
    "    distance = euclidean_distance(loc_u, loc_v)  # Compute distance\n",
    "    G_tot[u][v]['distance'] = distance/1000  # Add as edge attribute"
   ]
  },
  {
   "cell_type": "markdown",
   "id": "7d03ef00-5bc5-40d4-8bb2-f52d0e1ae34b",
   "metadata": {},
   "source": [
    "#### Compute travel times"
   ]
  },
  {
   "cell_type": "code",
   "execution_count": null,
   "id": "1822fe81-95c2-4f92-b28c-717b09dfc9a6",
   "metadata": {},
   "outputs": [],
   "source": [
    "for u, v in G_tot.edges():\n",
    "    time_v = G_tot.edges[u,v].get(\"day\")\n",
    "    time_u1 = G_tot.nodes[u]['day']\n",
    "    time_u2 = G_tot.nodes[u]['day']\n",
    "    travel_time1=time_v-time_u1\n",
    "    travel_time2=time_v-time_u1\n",
    "    travel_time=min(travel_time1,travel_time2)\n",
    "    if travel_time<0:\n",
    "        travel_time=np.nan\n",
    "    if travel_time==0:\n",
    "        time_u=(G_tot.nodes[u]['Time_min']+G_tot.nodes[u]['Time_max'])/2\n",
    "        time_v=(G_tot.nodes[u]['Time_min']+G_tot.nodes[u]['Time_max'])/2\n",
    "        travel_time=(time_v-time_u)/24\n",
    "        if travel_time==0:\n",
    "#            travel_time=0.5\n",
    "            travel_time=np.nan\n",
    "    G_tot[u][v]['travel_time'] = travel_time  # Add as edge attribute"
   ]
  },
  {
   "cell_type": "code",
   "execution_count": null,
   "id": "2da419c9-c82d-4b92-84b4-ed3497a86eb4",
   "metadata": {},
   "outputs": [],
   "source": []
  },
  {
   "cell_type": "markdown",
   "id": "d4326efb-4849-4662-add4-c8095e0e47c7",
   "metadata": {},
   "source": [
    "#### Compute velocities"
   ]
  },
  {
   "cell_type": "code",
   "execution_count": null,
   "id": "e6a46b9e-2b2d-488b-b3e8-0b97afaccb16",
   "metadata": {},
   "outputs": [],
   "source": [
    "for u, v in G_tot.edges():\n",
    "    dist=G_tot[u][v]['distance']  \n",
    "    time=G_tot[u][v]['travel_time']\n",
    "    velocity=dist/(time)\n",
    "    G_tot[u][v]['velocity'] = velocity "
   ]
  },
  {
   "cell_type": "code",
   "execution_count": null,
   "id": "0a3912f2-7969-4ca2-97b8-2ac2579d11da",
   "metadata": {},
   "outputs": [],
   "source": []
  },
  {
   "cell_type": "markdown",
   "id": "566ae469-f1a4-4b92-b74e-9edc416cb099",
   "metadata": {},
   "source": [
    "#### Compute out degrees"
   ]
  },
  {
   "cell_type": "code",
   "execution_count": null,
   "id": "9f5f4f42-a3a2-411f-a9f1-d87708a641ca",
   "metadata": {},
   "outputs": [],
   "source": [
    "node_degrees = dict(G_tot.out_degree())"
   ]
  },
  {
   "cell_type": "code",
   "execution_count": null,
   "id": "266bdcf7-1737-4d8e-9935-1828a4486a31",
   "metadata": {},
   "outputs": [],
   "source": [
    "nx.set_node_attributes(G_tot, node_degrees, \"degree\")"
   ]
  },
  {
   "cell_type": "markdown",
   "id": "8dbc50f9-4f8d-4190-84e7-613e87affc14",
   "metadata": {},
   "source": [
    "#### Create edge dataframe"
   ]
  },
  {
   "cell_type": "code",
   "execution_count": null,
   "id": "1635d5b9-e463-4bfd-8d38-679645fe30fc",
   "metadata": {},
   "outputs": [],
   "source": [
    "df_edge = pd.DataFrame(\n",
    "    ({\"source\": u, \"target\": v, **attr} for u, v, attr in G_tot.edges(data=True))\n",
    ")"
   ]
  },
  {
   "cell_type": "code",
   "execution_count": null,
   "id": "a9acde38-44d2-4769-bf70-d8c34d15da38",
   "metadata": {},
   "outputs": [],
   "source": [
    "def ckdnearest(gdA, gdB, distname):\n",
    "    nA = np.array(list(gdA.geometry.apply(lambda x: (x.x, x.y))))\n",
    "    nB = np.array(list(gdB.geometry.apply(lambda x: (x.x, x.y))))\n",
    "    btree = cKDTree(nB)\n",
    "    dist, idx = btree.query(nA, k=1)\n",
    "    gdB_nearest = gdB.iloc[idx].drop(columns=\"geometry\").reset_index(drop=True)\n",
    "    gdf = pd.concat(\n",
    "        [\n",
    "            gdA.reset_index(drop=True),\n",
    "            gdB_nearest,\n",
    "            pd.Series(dist, name=distname)\n",
    "        ], \n",
    "        axis=1)\n",
    "\n",
    "    return gdf"
   ]
  },
  {
   "cell_type": "code",
   "execution_count": null,
   "id": "154dc1e7-720c-423e-ba0e-f196c5fe6102",
   "metadata": {},
   "outputs": [],
   "source": [
    "nodes_gdf2=ckdnearest(nodes_gdf, nodes1, \"dist0\")"
   ]
  },
  {
   "cell_type": "code",
   "execution_count": null,
   "id": "2adfd9b6-79bb-4af5-8fd6-bb95a38d4bbf",
   "metadata": {},
   "outputs": [],
   "source": [
    "dic_node_id=dict(zip(nodes_gdf2.node,nodes_gdf2.node_id))\n",
    "dic_dist=dict(zip(nodes_gdf2.node,nodes_gdf2.dist0))"
   ]
  },
  {
   "cell_type": "code",
   "execution_count": null,
   "id": "d1ef1bf7-8b6a-458d-b3fd-ff2eb0469b54",
   "metadata": {},
   "outputs": [],
   "source": [
    "df_edge[\"road_distance\"]=0"
   ]
  },
  {
   "cell_type": "markdown",
   "id": "669ccf80-beaa-473b-a85e-f16aa168e145",
   "metadata": {},
   "source": [
    "#### Compute road distances"
   ]
  },
  {
   "cell_type": "code",
   "execution_count": null,
   "id": "fbd225d1-140f-4381-a825-ba86e1c7e544",
   "metadata": {},
   "outputs": [],
   "source": [
    "for index, row in df_edge.iterrows():\n",
    "    source=row[\"source\"]\n",
    "    target=row[\"target\"]\n",
    "    source_id=dic_node_id.get(source)\n",
    "    target_id=dic_node_id.get(target)\n",
    "    dist_s=dic_dist.get(source)/1000\n",
    "    dist_t=dic_dist.get(target)/1000\n",
    "    try:\n",
    "        distance=nx.shortest_path_length(G_roads, source=source_id, target=target_id, weight=\"length\", method='dijkstra')/1000.\n",
    "        df_edge.at[index, \"road_distance\"] = distance + dist_s + dist_t\n",
    "    except nx.NetworkXNoPath:\n",
    "        df_edge.at[index, \"road_distance\"] = df_edge.at[index, \"distance\"]\n",
    "\n"
   ]
  },
  {
   "cell_type": "code",
   "execution_count": null,
   "id": "bcf8eead-8b9b-4265-8c1c-72ac44f0e2f7",
   "metadata": {},
   "outputs": [],
   "source": [
    "# Extract 'day' values for coloring the nodes\n",
    "node_days = [G_tot.nodes[node]['day'] for node in G_tot.nodes]\n",
    "# Convert the 'day' attribute to numeric, forcing errors to NaN\n",
    "node_days = pd.to_numeric(node_days, errors='coerce')\n",
    "node_colors = [\n",
    "    'grey' if np.isnan(day) else day\n",
    "    for day in node_days\n",
    "]\n",
    "\n",
    "# Normalize the 'day' values to [0, 1] range for colormap (ignoring 'grey' nodes)\n",
    "valid_days = [day for day in node_colors if day != 'grey']\n",
    "norm = colors.Normalize(vmin=min(valid_days), vmax=max(valid_days)) if valid_days else colors.Normalize(vmin=0, vmax=1)\n"
   ]
  },
  {
   "cell_type": "code",
   "execution_count": null,
   "id": "3d9fa56b-6e92-4de1-b81a-b77689bdee6e",
   "metadata": {},
   "outputs": [],
   "source": []
  },
  {
   "cell_type": "markdown",
   "id": "26d4d18e-cb9d-48ef-a435-1a91b2115fe3",
   "metadata": {},
   "source": [
    "##### Figure 2a"
   ]
  },
  {
   "cell_type": "code",
   "execution_count": null,
   "id": "98216416-dee4-419c-a087-e5b94404bbaf",
   "metadata": {},
   "outputs": [],
   "source": [
    "# Choose the colormap (e.g., 'viridis' or any other from matplotlib)\n",
    "cmap = cm.plasma\n",
    "\n",
    "# Get the colors for each node based on the normalized 'day' value\n",
    "node_color = [\n",
    "    cmap(norm(day)) if day != 'grey' else 'grey'\n",
    "    for day in node_colors\n",
    "]\n"
   ]
  },
  {
   "cell_type": "code",
   "execution_count": null,
   "id": "1c336b5a-1fe6-44ad-86c3-957ab096bf86",
   "metadata": {},
   "outputs": [],
   "source": [
    "colors3=cmap(np.linspace(0, 1, 18))"
   ]
  },
  {
   "cell_type": "code",
   "execution_count": null,
   "id": "8bac231b-0f63-4dd9-a726-d31b8f38fd71",
   "metadata": {},
   "outputs": [],
   "source": []
  },
  {
   "cell_type": "code",
   "execution_count": null,
   "id": "e79b574b-45f0-4b41-bb4f-fe52680c8eba",
   "metadata": {},
   "outputs": [],
   "source": [
    "fig = plt.figure(figsize=(8,8))\n",
    "ax = fig.add_axes([0, 0, 1, 1])\n",
    "ax.axis('off')\n",
    "fr_outline.plot(ax=ax, facecolor=\"white\", edgecolor='black', lw=0.3)\n",
    "nx.draw_networkx_edges(G_roads, pos=nx.get_node_attributes(G_roads, \"pos\"), edge_color=\"grey\", width=0.3)\n",
    "nx.draw(G_tot, pos=nx.get_node_attributes(G_tot, \"location\"), with_labels=False, node_size=20, node_color=node_color, font_size=5, font_weight='bold', edge_color='white', arrows=False, width=0.1)\n",
    "for index, row in df_edge.iterrows():\n",
    "    source=row[\"source\"]\n",
    "    target=row[\"target\"]\n",
    "    source_id=dic_node_id.get(source)\n",
    "    target_id=dic_node_id.get(target)\n",
    "    dist_s=dic_dist.get(source)/1000\n",
    "    dist_t=dic_dist.get(target)/1000\n",
    "    \n",
    "    if np.isnan(row[\"day\"]):\n",
    "        color_1=\"grey\"\n",
    "    else:\n",
    "        i_col=int(row[\"day\"])-20\n",
    "        color_1=colors3[i_col]\n",
    "    hex_color =colors.to_hex(color_1)\n",
    "    shortest_path=nx.shortest_path(G_roads, source=source_id, target=target_id, weight=\"length\")\n",
    "#        nodes.plot(ax=ax, edgecolor=\"grey\")\n",
    "    path_edges = list(zip(shortest_path, shortest_path[1:]))\n",
    "    nx.draw_networkx_edges(G_roads, pos=nx.get_node_attributes(G_roads, \"pos\"), edgelist=path_edges, edge_color=hex_color, width=2)\n",
    "plt.xlim(0.32e7,0.42e7)\n",
    "plt.ylim(2.1e6,3.2e6)  \n",
    "#plt.savefig(\"map_tot_colors.pdf\")\n",
    "plt.show()\n",
    "\n",
    "#nx.draw(G_tot, pos=nx.get_node_attributes(G_tot, \"location\"), with_labels=False, node_size=20, node_color=node_color, font_weight='bold', edge_color='white', arrows=False, width=0)\n",
    "\n",
    "\n"
   ]
  },
  {
   "cell_type": "markdown",
   "id": "01f5fa04-68be-40d5-b9b6-e75d8fe6d601",
   "metadata": {},
   "source": [
    "#### Figure 1a"
   ]
  },
  {
   "cell_type": "code",
   "execution_count": null,
   "id": "6c45b4f1-a7f5-45f4-aa74-7b1de915f14d",
   "metadata": {},
   "outputs": [],
   "source": [
    "fig = plt.figure(figsize=(8,8))\n",
    "ax = fig.add_axes([0, 0, 1, 1])\n",
    "ax.axis('off')\n",
    "fr_outline.plot(ax=ax, facecolor=\"white\", edgecolor='black', lw=0.3)\n",
    "nx.draw(G_tot, pos=nx.get_node_attributes(G_tot, \"location\"), with_labels=False, node_size=30, node_color=node_color, font_size=5, font_weight='bold', edge_color='black', arrows=True, width=1)\n",
    "plt.xlim(0.32e7,0.42e7)\n",
    "plt.ylim(2.1e6,3.2e6)  \n",
    "#plt.savefig(\"arrows_2.pdf\")\n",
    "plt.show()\n"
   ]
  },
  {
   "cell_type": "markdown",
   "id": "d0e5ad53-6cda-4e70-8f73-6cb05788463b",
   "metadata": {},
   "source": [
    "#### Velocity distribution (euclidean distance)"
   ]
  },
  {
   "cell_type": "code",
   "execution_count": null,
   "id": "4c83a35c-2120-4723-9144-3d360f32273a",
   "metadata": {},
   "outputs": [],
   "source": [
    "list_v=[]\n",
    "for u, v in G_tot.edges():\n",
    "    velocity=G_tot[u][v]['velocity']\n",
    "    if(pd.notna(velocity)):\n",
    "        list_v.append(velocity)"
   ]
  },
  {
   "cell_type": "code",
   "execution_count": null,
   "id": "bf8d2274-5bf2-476a-bf37-0fec7516c517",
   "metadata": {},
   "outputs": [],
   "source": [
    "fig = plt.figure(figsize=(4,5))\n",
    "plt.hist(list_v, bins=25, color=\"grey\", edgecolor=\"black\", density=True)\n",
    "#plt.plot(bins[:-1],counts, ls=\"dashed\", color=\"black\")\n",
    "plt.ylabel(r\"$P(v)$\")\n",
    "plt.xlabel(r\"$v$ (km/day)\")\n",
    "#plt.yscale(\"log\")\n",
    "#plt.legend()"
   ]
  },
  {
   "cell_type": "code",
   "execution_count": null,
   "id": "0680f3e3-489c-4694-b122-3f3216676042",
   "metadata": {},
   "outputs": [],
   "source": []
  },
  {
   "cell_type": "code",
   "execution_count": null,
   "id": "319fcee7-759b-4b24-b75d-e849c4364286",
   "metadata": {},
   "outputs": [],
   "source": [
    "df_edge[\"road_velocity\"]=df_edge[\"road_distance\"]/df_edge[\"travel_time\"]"
   ]
  },
  {
   "cell_type": "code",
   "execution_count": null,
   "id": "37221312-dda8-44ae-b6d8-d22c1cb8b0d1",
   "metadata": {},
   "outputs": [],
   "source": [
    "list_v2=df_edge.road_velocity.dropna()"
   ]
  },
  {
   "cell_type": "code",
   "execution_count": null,
   "id": "ce7421b3-41f9-49a3-a2c3-3b63027449de",
   "metadata": {},
   "outputs": [],
   "source": [
    "fig = plt.figure(figsize=(5,5))\n",
    "plt.hist(list_v2, bins=np.linspace(0, 150, 25), color=\"tab:red\", edgecolor=\"black\", density=True, alpha=1, label=\"Road\")\n",
    "plt.hist(list_v, bins=np.linspace(0, 150, 25), color=\"tab:blue\", edgecolor=\"black\", density=True, alpha=0.6, label=\"Euclidean\")\n",
    "#plt.plot(bins[:-1],counts, ls=\"dashed\", color=\"black\")\n",
    "plt.ylabel(r\"$P(v)$\")\n",
    "plt.xlabel(r\"$v$ (km/day)\")\n",
    "#plt.yscale(\"log\")\n",
    "plt.legend()"
   ]
  },
  {
   "cell_type": "markdown",
   "id": "7d412104-e351-45c0-8009-fb8166d03796",
   "metadata": {},
   "source": [
    "##### Connected components (Fig. 1b)"
   ]
  },
  {
   "cell_type": "code",
   "execution_count": null,
   "id": "eb5bb9ac-4add-4358-9396-a9ffa5e1d55f",
   "metadata": {},
   "outputs": [],
   "source": [
    "# Find weakly connected components\n",
    "components = list(nx.weakly_connected_components(G_tot))\n",
    "\n",
    "# Generate distinct colors for each component\n",
    "colors2 = list(colors.XKCD_COLORS.keys())  # Use Tableau colors for variety\n",
    "random.shuffle(colors2)\n",
    "color_map = {}\n",
    "for i, component in enumerate(components):\n",
    "        for node in component:\n",
    "            if len(component)>4:\n",
    "                color_map[node] = colors2[i % len(colors2)]  # Cycle colors if components > len(colors)\n",
    "            else:\n",
    "              color_map[node] = \"gray\"  \n",
    "\n",
    "# Assign gray to disconnected nodes\n",
    "#for node in nodes:\n",
    "#    if node not in color_map:\n",
    "#        color_map[node] = \"gray\"\n"
   ]
  },
  {
   "cell_type": "code",
   "execution_count": null,
   "id": "fab29b63-f7a8-4c26-871f-7f4b1e04a6d6",
   "metadata": {},
   "outputs": [],
   "source": [
    "node_colors = [color_map[node] for node in G_tot.nodes()]"
   ]
  },
  {
   "cell_type": "code",
   "execution_count": null,
   "id": "bb0435ad-277d-4775-b387-6849f4595fc5",
   "metadata": {},
   "outputs": [],
   "source": [
    "fig = plt.figure(figsize=(8,8))\n",
    "ax = fig.add_axes([0, 0, 1, 1])\n",
    "ax.axis('off')\n",
    "fr_outline.plot(ax=ax, facecolor=\"white\", edgecolor='black', lw=0.3)\n",
    "#nx.draw_networkx_edges(G_roads, pos=nx.get_node_attributes(G_roads, \"pos\"), edge_color=\"grey\", width=0.3)\n",
    "nx.draw(G_tot, pos=nx.get_node_attributes(G_tot, \"location\"), node_color=node_colors, with_labels=False, node_size=30, font_weight='bold', edge_color='black', arrows=True, width=0.5)\n",
    "plt.xlim(0.32e7,0.42e7)\n",
    "plt.ylim(2.1e6,3.2e6)  \n",
    "#plt.savefig(\"map_clustes_arrow.pdf\")\n",
    "plt.show()\n"
   ]
  },
  {
   "cell_type": "markdown",
   "id": "d3b65281-e66e-46cb-bdcf-47e9a617d7c2",
   "metadata": {},
   "source": [
    "#### Epidemic activity"
   ]
  },
  {
   "cell_type": "code",
   "execution_count": null,
   "id": "1f8bd60e-2696-44dc-8acf-588cd98e591f",
   "metadata": {},
   "outputs": [],
   "source": [
    "time_list=df_node.Day.dropna().unique()"
   ]
  },
  {
   "cell_type": "code",
   "execution_count": null,
   "id": "4a05fce5-0155-48c9-b151-95aa3ae45e52",
   "metadata": {},
   "outputs": [],
   "source": [
    "time_list=np.sort(time_list)"
   ]
  },
  {
   "cell_type": "code",
   "execution_count": null,
   "id": "1afd8e94-50df-47fb-b59c-0b1014f9ae05",
   "metadata": {},
   "outputs": [],
   "source": [
    "df_degree=pd.DataFrame(columns=[\"time\",\"R0\",\"av_k\"])\n",
    "for time in time_list:\n",
    "    filtered_nodes = [n for n, attr in G_tot.nodes(data=True) if attr.get(\"Day\") == time]\n",
    "    k = [G_tot.nodes[n][\"degree\"] for n in filtered_nodes]\n",
    "    av_k=np.mean(k)\n",
    "    av_k2=np.mean(np.array(k)**2)\n",
    "    R0=av_k2/av_k-1\n",
    "    df_0=pd.DataFrame({\"time\":[time-20],\"R0\":[R0],\"av_k\":[av_k]})\n",
    "    df_degree=pd.concat([df_degree,df_0])\n",
    "#    print(time,R0,av_k)"
   ]
  },
  {
   "cell_type": "code",
   "execution_count": null,
   "id": "ef5af584-a639-4420-a07c-d906ce1c6afa",
   "metadata": {},
   "outputs": [],
   "source": [
    "df_degree=df_degree.dropna().reset_index()"
   ]
  },
  {
   "cell_type": "code",
   "execution_count": null,
   "id": "bae032cb-754c-406f-b3d1-97c60fe49c75",
   "metadata": {},
   "outputs": [],
   "source": [
    "#sns.lineplot(data=df_degree, x=\"time\", y=\"R0\")\n",
    "fig = plt.figure(figsize=(5,5))\n",
    "sns.scatterplot(data=df_degree, x=\"time\", y=\"av_k\", edgecolor=\"black\")\n",
    "plt.axhline(y=1, ls=\"dashed\")\n",
    "plt.ylabel(r\"$R_t$\")\n",
    "plt.xlabel(\"Days from July 20, 1789\")"
   ]
  },
  {
   "cell_type": "code",
   "execution_count": null,
   "id": "81da8e73-ffdc-4a39-8051-5b79c7fa03e1",
   "metadata": {},
   "outputs": [],
   "source": []
  },
  {
   "cell_type": "markdown",
   "id": "33cf4326-dc82-4071-a1fb-6f37bb82be1a",
   "metadata": {},
   "source": [
    "#### Comparison with the SIR model"
   ]
  },
  {
   "cell_type": "code",
   "execution_count": null,
   "id": "90fe6f1a-dd1c-4eef-99af-fbc7e2f9b684",
   "metadata": {},
   "outputs": [],
   "source": [
    "def deriv(y, t, N, beta, gamma):\n",
    "# definition of the derivatives in the SIR model\n",
    "    S, I, R = y\n",
    "    dSdt = -beta * S * I / N\n",
    "    dIdt = beta * S * I / N - gamma * I\n",
    "    dRdt = gamma * I\n",
    "    return dSdt, dIdt, dRdt\n"
   ]
  },
  {
   "cell_type": "code",
   "execution_count": null,
   "id": "0d61a425-87d0-4f73-a3a3-d4d96aba8ef6",
   "metadata": {},
   "outputs": [],
   "source": [
    "def sir_simul(t_max,N,beta,gamma):\n",
    "# simulation of the SIR model\n",
    "    t = np.linspace(0, t_max, t_max)\n",
    "    I0, R0 = 1, 0\n",
    "    # Everyone else, S0, is susceptible to infection initially.\n",
    "    S0 = N - I0 - R0\n",
    "    y0 = S0, I0, R0\n",
    "    ret = odeint(deriv, y0, t, args=(N, beta, gamma))\n",
    "    S, I, R = ret.T\n",
    "    return t,S,I,R\n",
    "\n"
   ]
  },
  {
   "cell_type": "code",
   "execution_count": null,
   "id": "39a020af-c20a-4f3c-b667-684477dd66d1",
   "metadata": {},
   "outputs": [],
   "source": [
    "# Initial guess of parameters\n",
    "gamma=0.8\n",
    "beta=1.4\n",
    "N=496\n",
    "initial_guess=[gamma, beta, 500] "
   ]
  },
  {
   "cell_type": "code",
   "execution_count": null,
   "id": "a3bd6485-f555-40e3-8947-bc4c4c4f3fa3",
   "metadata": {},
   "outputs": [],
   "source": [
    "activity=df_node.groupby(\"Day\").count().reset_index()[[\"Day\",\"name\"]]\n",
    "activity.Day=activity.Day-20"
   ]
  },
  {
   "cell_type": "code",
   "execution_count": null,
   "id": "fb58a2af-2c9e-4c70-a0eb-5df9e02e6719",
   "metadata": {},
   "outputs": [],
   "source": [
    "data_series1=activity.name.to_numpy()"
   ]
  },
  {
   "cell_type": "code",
   "execution_count": null,
   "id": "fc2ef87b-9f35-41cb-a02c-0a5efde5cdc9",
   "metadata": {},
   "outputs": [],
   "source": [
    "data_series2=np.cumsum(data_series1)"
   ]
  },
  {
   "cell_type": "code",
   "execution_count": null,
   "id": "93bbb150-b64e-44b1-b25e-9925615640c2",
   "metadata": {},
   "outputs": [],
   "source": [
    "def objective(params):\n",
    "# Objective function for the fit\n",
    "    gamma, beta, N = params\n",
    "    t_max=18\n",
    "    t, S, I, R=sir_simul(t_max,N,beta,gamma)\n",
    "    simulated_values = I+R\n",
    "    # Calculate the mean squared error between data_series and simulated_values\n",
    "    mse = np.mean((data_series2 - simulated_values) ** 2)\n",
    "    return mse"
   ]
  },
  {
   "cell_type": "code",
   "execution_count": null,
   "id": "3969f4da-b4a3-440d-ba67-f07fe93d4d2b",
   "metadata": {},
   "outputs": [],
   "source": [
    "# Perform the optimization\n",
    "result = minimize(objective, initial_guess, method='L-BFGS-B', bounds=[(0,10),(0,10),(0,10000)])\n"
   ]
  },
  {
   "cell_type": "code",
   "execution_count": null,
   "id": "8e1d971f-99e3-4c6a-aa2b-01fc52f7d494",
   "metadata": {},
   "outputs": [],
   "source": [
    "gamma=result.x[0]\n",
    "beta=result.x[1]\n",
    "N=result.x[2]"
   ]
  },
  {
   "cell_type": "code",
   "execution_count": null,
   "id": "9841bb88-62ab-46e9-8816-e45b1c1c2a24",
   "metadata": {},
   "outputs": [],
   "source": [
    "print(beta,gamma,N)"
   ]
  },
  {
   "cell_type": "code",
   "execution_count": null,
   "id": "ac521088-5756-4697-a5d3-e4e0a1e2a516",
   "metadata": {},
   "outputs": [],
   "source": [
    "t_max=18\n",
    "t,S, I, R=sir_simul(t_max,N,beta,gamma)"
   ]
  },
  {
   "cell_type": "code",
   "execution_count": null,
   "id": "187c86b3-2243-4096-82db-993ee100c829",
   "metadata": {},
   "outputs": [],
   "source": [
    "x=activity.Day\n",
    "y=activity[\"name\"].cumsum()"
   ]
  },
  {
   "cell_type": "code",
   "execution_count": null,
   "id": "4737b492-acd1-43a8-8279-952692263221",
   "metadata": {},
   "outputs": [],
   "source": [
    "fig = plt.figure(figsize=(5,5))\n",
    "plt.scatter(x,y, edgecolor=\"black\", label=\"data\")\n",
    "plt.plot(t,R+I, color=\"tab:blue\", ls=\"dashed\", lw=0.8, label=\"SIR\")\n",
    "#plt.plot(x[2:11], aa*2**(bb*x[2:11]), linestyle='dashed', color=\"tab:blue\", lw=0.8, label=r\"$C*2^{t/\\tau_D}$ $\\tau_D=49$h\")\n",
    "plt.yscale(\"log\")\n",
    "plt.legend()\n",
    "plt.ylabel(\"Towns affected (cumulative)\")\n",
    "plt.xlabel(\"Days from July 20, 1789\")\n",
    "plt.tight_layout()\n",
    "#plt.savefig(\"cumul.pdf\")\n"
   ]
  },
  {
   "cell_type": "code",
   "execution_count": null,
   "id": "6a3038f3-01fb-4804-acb8-5e6aa756ae83",
   "metadata": {},
   "outputs": [],
   "source": [
    "diff=np.gradient(I+R)"
   ]
  },
  {
   "cell_type": "code",
   "execution_count": null,
   "id": "ea3804a7-b249-4631-b33d-dfa42ecb8069",
   "metadata": {},
   "outputs": [],
   "source": [
    "fig = plt.figure(figsize=(5,5))\n",
    "plt.scatter(x,data_series1, edgecolor=\"black\", color=\"red\", label=\"data\")\n",
    "plt.plot(t,diff,color=\"black\",  ls=\"dashed\", lw=0.7, label=\"SIR\")\n",
    "plt.legend()\n",
    "plt.ylabel(\"Towns affected in day\")\n",
    "plt.xlabel(\"Days from July 20, 1789\")"
   ]
  },
  {
   "cell_type": "code",
   "execution_count": null,
   "id": "47b0213f-748a-440d-bd86-05ffe2325084",
   "metadata": {},
   "outputs": [],
   "source": []
  },
  {
   "cell_type": "code",
   "execution_count": null,
   "id": "5242ca88-f6a9-4ed5-8564-460a43c62b49",
   "metadata": {},
   "outputs": [],
   "source": []
  },
  {
   "cell_type": "code",
   "execution_count": null,
   "id": "2010daae-fc83-4f06-a017-4aa1ddc08370",
   "metadata": {},
   "outputs": [],
   "source": []
  },
  {
   "cell_type": "code",
   "execution_count": null,
   "id": "8cbbfc22-b3de-43c2-92c3-267f00e3b19f",
   "metadata": {},
   "outputs": [],
   "source": []
  },
  {
   "cell_type": "code",
   "execution_count": null,
   "id": "2ee89435-9949-4f3b-a425-34501dd36c04",
   "metadata": {},
   "outputs": [],
   "source": []
  },
  {
   "cell_type": "code",
   "execution_count": null,
   "id": "c64ab9be-d7c8-4352-a527-bc32733bb0d5",
   "metadata": {},
   "outputs": [],
   "source": []
  },
  {
   "cell_type": "code",
   "execution_count": null,
   "id": "cbf4b7c8-d2b3-4517-8901-6b4c779fb40f",
   "metadata": {},
   "outputs": [],
   "source": []
  },
  {
   "cell_type": "code",
   "execution_count": null,
   "id": "b6e52549-23da-47d6-99ff-82966e456293",
   "metadata": {},
   "outputs": [],
   "source": []
  },
  {
   "cell_type": "code",
   "execution_count": null,
   "id": "504971e2-142d-4b51-b2e6-19155e3b45c7",
   "metadata": {},
   "outputs": [],
   "source": []
  },
  {
   "cell_type": "code",
   "execution_count": null,
   "id": "623f8379-d3e2-45aa-90c7-02493b8fdd05",
   "metadata": {},
   "outputs": [],
   "source": []
  },
  {
   "cell_type": "code",
   "execution_count": null,
   "id": "b56c351f-9cc3-4486-b476-9a832e0e0853",
   "metadata": {},
   "outputs": [],
   "source": []
  }
 ],
 "metadata": {
  "kernelspec": {
   "display_name": "Python 3 (ipykernel)",
   "language": "python",
   "name": "python3"
  },
  "language_info": {
   "codemirror_mode": {
    "name": "ipython",
    "version": 3
   },
   "file_extension": ".py",
   "mimetype": "text/x-python",
   "name": "python",
   "nbconvert_exporter": "python",
   "pygments_lexer": "ipython3",
   "version": "3.9.12"
  }
 },
 "nbformat": 4,
 "nbformat_minor": 5
}
